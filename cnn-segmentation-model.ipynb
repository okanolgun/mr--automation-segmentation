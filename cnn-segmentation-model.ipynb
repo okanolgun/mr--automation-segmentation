{
 "cells": [
  {
   "cell_type": "code",
   "execution_count": 1,
   "metadata": {
    "executionInfo": {
     "elapsed": 2816,
     "status": "ok",
     "timestamp": 1751065881479,
     "user": {
      "displayName": "Semih Özsoy",
      "userId": "18120777553271560662"
     },
     "user_tz": -180
    },
    "id": "kuMleLdQkD1O"
   },
   "outputs": [],
   "source": [
    "import zipfile\n",
    "import os\n",
    "\n",
    "zip_path = \"/content/hacettepe.zip\"\n",
    "extract_path = \"/content/hacettepe\"\n",
    "\n",
    "with zipfile.ZipFile(zip_path, 'r') as zip_ref:\n",
    "    zip_ref.extractall(extract_path)\n",
    "\n"
   ]
  },
  {
   "cell_type": "code",
   "execution_count": 2,
   "metadata": {
    "colab": {
     "base_uri": "https://localhost:8080/"
    },
    "executionInfo": {
     "elapsed": 4237,
     "status": "ok",
     "timestamp": 1751065885714,
     "user": {
      "displayName": "Semih Özsoy",
      "userId": "18120777553271560662"
     },
     "user_tz": -180
    },
    "id": "4BbbtEmHkeDi",
    "outputId": "add9d12d-c2f1-42c6-b258-e506e83dcc6e"
   },
   "outputs": [
    {
     "name": "stdout",
     "output_type": "stream",
     "text": [
      "Requirement already satisfied: SimpleITK in /usr/local/lib/python3.11/dist-packages (2.5.2)\n",
      "Requirement already satisfied: nibabel in /usr/local/lib/python3.11/dist-packages (5.3.2)\n",
      "Requirement already satisfied: pydicom in /usr/local/lib/python3.11/dist-packages (3.0.1)\n",
      "Requirement already satisfied: importlib-resources>=5.12 in /usr/local/lib/python3.11/dist-packages (from nibabel) (6.5.2)\n",
      "Requirement already satisfied: numpy>=1.22 in /usr/local/lib/python3.11/dist-packages (from nibabel) (2.0.2)\n",
      "Requirement already satisfied: packaging>=20 in /usr/local/lib/python3.11/dist-packages (from nibabel) (24.2)\n",
      "Requirement already satisfied: typing-extensions>=4.6 in /usr/local/lib/python3.11/dist-packages (from nibabel) (4.14.0)\n"
     ]
    }
   ],
   "source": [
    "!pip install SimpleITK nibabel pydicom\n"
   ]
  },
  {
   "cell_type": "code",
   "execution_count": 3,
   "metadata": {
    "executionInfo": {
     "elapsed": 293,
     "status": "ok",
     "timestamp": 1751065886034,
     "user": {
      "displayName": "Semih Özsoy",
      "userId": "18120777553271560662"
     },
     "user_tz": -180
    },
    "id": "zAjeOEumkeGA"
   },
   "outputs": [],
   "source": [
    "import SimpleITK as sitk\n",
    "import nibabel as nib\n",
    "import numpy as np\n",
    "import shutil\n",
    "import gzip\n"
   ]
  },
  {
   "cell_type": "code",
   "execution_count": 4,
   "metadata": {
    "executionInfo": {
     "elapsed": 3,
     "status": "ok",
     "timestamp": 1751065886051,
     "user": {
      "displayName": "Semih Özsoy",
      "userId": "18120777553271560662"
     },
     "user_tz": -180
    },
    "id": "Pfc199tekeIx"
   },
   "outputs": [],
   "source": [
    "base_path = \"/content/hacettepe\"\n",
    "\n",
    "all_masks_only = []   # tüm mask dosyaları buraya\n",
    "all_images_only = []  # tüm image dosyaları buraya\n",
    "\n",
    "def convert_dicom_to_nii(dicom_folder, output_path):\n",
    "    try:\n",
    "        reader = sitk.ImageSeriesReader()\n",
    "        dicom_names = reader.GetGDCMSeriesFileNames(dicom_folder)\n",
    "        if not dicom_names:\n",
    "            return False\n",
    "        reader.SetFileNames(dicom_names)\n",
    "        image = reader.Execute()\n",
    "        sitk.WriteImage(image, output_path)\n",
    "        return True\n",
    "    except Exception as e:\n",
    "        print(f\"❌ DICOM çevirme hatası: {e}\")\n",
    "        return False\n",
    "\n",
    "def ensure_nii_gz_format(src_path, dst_path):\n",
    "    if os.path.abspath(src_path) == os.path.abspath(dst_path):\n",
    "        # Aynı dosyaya kopyalamaya çalışıyorsak, boşuna uğraşma\n",
    "        return dst_path\n",
    "    if src_path.endswith(\".nii\"):\n",
    "        with open(src_path, 'rb') as f_in:\n",
    "            with gzip.open(dst_path, 'wb') as f_out:\n",
    "                shutil.copyfileobj(f_in, f_out)\n",
    "        return dst_path\n",
    "    elif src_path.endswith(\".nii.gz\"):\n",
    "        shutil.copy(src_path, dst_path)\n",
    "        return dst_path\n",
    "    return None\n",
    "\n"
   ]
  },
  {
   "cell_type": "code",
   "execution_count": 5,
   "metadata": {
    "colab": {
     "base_uri": "https://localhost:8080/"
    },
    "executionInfo": {
     "elapsed": 28404,
     "status": "ok",
     "timestamp": 1751065914468,
     "user": {
      "displayName": "Semih Özsoy",
      "userId": "18120777553271560662"
     },
     "user_tz": -180
    },
    "id": "j4d-yMvrkeK1",
    "outputId": "76ad6a40-e5d7-486e-aada-0e436599c005"
   },
   "outputs": [
    {
     "name": "stdout",
     "output_type": "stream",
     "text": [
      "📥 Mask alındı: /content/hacettepe/HU AUTOSEG CNN/Tülay Elhan/mask.nii.gz\n",
      "📥 Mask alındı: /content/hacettepe/HU AUTOSEG CNN/Tülay Elhan/mask.nii.gz\n",
      "✅ DICOM → NIfTI dönüştürüldü: /content/hacettepe/HU AUTOSEG CNN/Tülay Elhan/c+ T1/image.nii.gz\n",
      "📥 Mask alındı: /content/hacettepe/HU AUTOSEG CNN/Hatice Çınar/mask.nii.gz\n",
      "📥 Image alındı: /content/hacettepe/HU AUTOSEG CNN/Hatice Çınar/image.nii.gz\n",
      "📥 Image alındı: /content/hacettepe/HU AUTOSEG CNN/Hatice Çınar/image.nii.gz\n",
      "📥 Mask alındı: /content/hacettepe/HU AUTOSEG CNN/Hatice Çınar/mask.nii.gz\n",
      "📥 Mask alındı: /content/hacettepe/HU AUTOSEG CNN/emine bilgin/mask.nii.gz\n",
      "📥 Mask alındı: /content/hacettepe/HU AUTOSEG CNN/emine bilgin/mask.nii.gz\n",
      "📥 Image alındı: /content/hacettepe/HU AUTOSEG CNN/emine bilgin/image.nii.gz\n",
      "📥 Image alındı: /content/hacettepe/HU AUTOSEG CNN/emine bilgin/image.nii.gz\n",
      "📥 Mask alındı: /content/hacettepe/HU AUTOSEG CNN/Fatma Ceylan/mask.nii.gz\n",
      "📥 Mask alındı: /content/hacettepe/HU AUTOSEG CNN/Fatma Ceylan/mask.nii.gz\n",
      "📥 Image alındı: /content/hacettepe/HU AUTOSEG CNN/Fatma Ceylan/image.nii.gz\n",
      "📥 Image alındı: /content/hacettepe/HU AUTOSEG CNN/Fatma Ceylan/image.nii.gz\n",
      "📥 Mask alındı: /content/hacettepe/HU AUTOSEG CNN/Semra Ayvaz/mask.nii.gz\n",
      "📥 Mask alındı: /content/hacettepe/HU AUTOSEG CNN/Semra Ayvaz/mask.nii.gz\n",
      "📥 Image alındı: /content/hacettepe/HU AUTOSEG CNN/Semra Ayvaz/image.nii.gz\n",
      "📥 Image alındı: /content/hacettepe/HU AUTOSEG CNN/Semra Ayvaz/image.nii.gz\n",
      "📥 Mask alındı: /content/hacettepe/HU AUTOSEG CNN/Özgür Adıgüzel/mask.nii.gz\n",
      "📥 Image alındı: /content/hacettepe/HU AUTOSEG CNN/Özgür Adıgüzel/image.nii.gz\n",
      "📥 Mask alındı: /content/hacettepe/HU AUTOSEG CNN/Özgür Adıgüzel/mask.nii.gz\n",
      "📥 Image alındı: /content/hacettepe/HU AUTOSEG CNN/Özgür Adıgüzel/image.nii.gz\n",
      "📥 Mask alındı: /content/hacettepe/HU AUTOSEG CNN/Aydemir Demirci/mask.nii.gz\n",
      "📥 Mask alındı: /content/hacettepe/HU AUTOSEG CNN/Aydemir Demirci/mask.nii.gz\n",
      "✅ DICOM → NIfTI dönüştürüldü: /content/hacettepe/HU AUTOSEG CNN/Aydemir Demirci/c+ T1/image.nii.gz\n",
      "📥 Mask alındı: /content/hacettepe/HU AUTOSEG CNN/Kemal Erden/mask.nii.gz\n",
      "📥 Mask alındı: /content/hacettepe/HU AUTOSEG CNN/Kemal Erden/mask.nii.gz\n",
      "✅ DICOM → NIfTI dönüştürüldü: /content/hacettepe/HU AUTOSEG CNN/Kemal Erden/c+ T1/image.nii.gz\n",
      "📥 Mask alındı: /content/hacettepe/HU AUTOSEG CNN/Salih Bayraktar/mask.nii.gz\n",
      "📥 Mask alındı: /content/hacettepe/HU AUTOSEG CNN/Salih Bayraktar/mask.nii.gz\n",
      "📥 Image alındı: /content/hacettepe/HU AUTOSEG CNN/Salih Bayraktar/image.nii.gz\n",
      "📥 Image alındı: /content/hacettepe/HU AUTOSEG CNN/Salih Bayraktar/image.nii.gz\n",
      "📥 Mask alındı: /content/hacettepe/HU AUTOSEG CNN/Dilan Eldek/mask.nii.gz\n",
      "📥 Mask alındı: /content/hacettepe/HU AUTOSEG CNN/Dilan Eldek/mask.nii.gz\n",
      "✅ DICOM → NIfTI dönüştürüldü: /content/hacettepe/HU AUTOSEG CNN/Dilan Eldek/c+ T1/image.nii.gz\n"
     ]
    }
   ],
   "source": [
    "import os\n",
    "\n",
    "for root, dirs, files in os.walk(base_path):\n",
    "    dicom_files = [f for f in files if f.endswith(\".dcm\")]\n",
    "\n",
    "    # DICOM klasörü varsa .nii.gz'ye cevirip kullan\n",
    "    if dicom_files:\n",
    "        output_nii = os.path.join(root, \"image.nii.gz\")\n",
    "        if convert_dicom_to_nii(root, output_nii):\n",
    "            all_images_only.append(output_nii)\n",
    "            print(f\"✅ DICOM → NIfTI dönüştürüldü: {output_nii}\")\n",
    "        continue\n",
    "\n",
    "    for file in files:\n",
    "        file_path = os.path.join(root, file)\n",
    "        f_lower = file.lower()\n",
    "\n",
    "        # Image dosyası\n",
    "        if f_lower.endswith((\".nii\", \".nii.gz\")) and (\"t1\" in f_lower or \"kontras\" in f_lower or \"image\" in f_lower):\n",
    "            new_path = os.path.join(root, \"image.nii.gz\")\n",
    "            new_image_path = ensure_nii_gz_format(file_path, new_path)\n",
    "            if new_image_path:\n",
    "                all_images_only.append(new_image_path)\n",
    "                print(f\"📥 Image alındı: {new_image_path}\")\n",
    "\n",
    "        # Mask dosyası\n",
    "        elif f_lower.endswith((\".nii\", \".nii.gz\")) and (\"segment\" in f_lower or \"mask\" in f_lower or \"seg\" in f_lower):\n",
    "            new_path = os.path.join(root, \"mask.nii.gz\")\n",
    "            new_mask_path = ensure_nii_gz_format(file_path, new_path)\n",
    "            if new_mask_path:\n",
    "                all_masks_only.append(new_mask_path)\n",
    "                print(f\"📥 Mask alındı: {new_mask_path}\")\n"
   ]
  },
  {
   "cell_type": "code",
   "execution_count": 6,
   "metadata": {
    "colab": {
     "base_uri": "https://localhost:8080/"
    },
    "executionInfo": {
     "elapsed": 10,
     "status": "ok",
     "timestamp": 1751065914498,
     "user": {
      "displayName": "Semih Özsoy",
      "userId": "18120777553271560662"
     },
     "user_tz": -180
    },
    "id": "lGmS0JvBkeNQ",
    "outputId": "effd6837-658c-4d98-930d-2574fd716af3"
   },
   "outputs": [
    {
     "name": "stdout",
     "output_type": "stream",
     "text": [
      "\n",
      "📊 ÖZET\n",
      "Toplam görüntü (image): 16\n",
      "Toplam maske (mask):    20\n",
      "Örnek image: /content/hacettepe/HU AUTOSEG CNN/Tülay Elhan/c+ T1/image.nii.gz\n",
      "Örnek mask : /content/hacettepe/HU AUTOSEG CNN/Tülay Elhan/mask.nii.gz\n"
     ]
    }
   ],
   "source": [
    "print(\"\\n📊 ÖZET\")\n",
    "print(\"Toplam görüntü (image):\", len(all_images_only))\n",
    "print(\"Toplam maske (mask):   \", len(all_masks_only))\n",
    "print(\"Örnek image:\", all_images_only[0] if all_images_only else \"Bulunamadı\")\n",
    "print(\"Örnek mask :\", all_masks_only[0] if all_masks_only else \"Bulunamadı\")\n"
   ]
  },
  {
   "cell_type": "code",
   "execution_count": 7,
   "metadata": {
    "colab": {
     "base_uri": "https://localhost:8080/"
    },
    "executionInfo": {
     "elapsed": 5,
     "status": "ok",
     "timestamp": 1751065914517,
     "user": {
      "displayName": "Semih Özsoy",
      "userId": "18120777553271560662"
     },
     "user_tz": -180
    },
    "id": "eH108gqokeR7",
    "outputId": "d5ee5307-14aa-4c43-d245-368b8b5d0f65"
   },
   "outputs": [
    {
     "name": "stdout",
     "output_type": "stream",
     "text": [
      "🎯 Eğitim için eşleşmiş çift sayısı: 12\n",
      "Örnek X: /content/hacettepe/HU AUTOSEG CNN/Hatice Çınar/image.nii.gz\n",
      "Örnek Y: /content/hacettepe/HU AUTOSEG CNN/Hatice Çınar/mask.nii.gz\n"
     ]
    }
   ],
   "source": [
    "paired_X = []\n",
    "paired_Y = []\n",
    "\n",
    "for image_path in all_images_only:\n",
    "    base_dir = os.path.dirname(image_path)\n",
    "    mask_path = os.path.join(base_dir, \"mask.nii.gz\")\n",
    "\n",
    "    if os.path.exists(mask_path):\n",
    "        paired_X.append(image_path)\n",
    "        paired_Y.append(mask_path)\n",
    "\n",
    "print(\"🎯 Eğitim için eşleşmiş çift sayısı:\", len(paired_X))\n",
    "print(\"Örnek X:\", paired_X[0])\n",
    "print(\"Örnek Y:\", paired_Y[0])\n"
   ]
  },
  {
   "cell_type": "code",
   "execution_count": 8,
   "metadata": {
    "executionInfo": {
     "elapsed": 1542,
     "status": "ok",
     "timestamp": 1751065916060,
     "user": {
      "displayName": "Semih Özsoy",
      "userId": "18120777553271560662"
     },
     "user_tz": -180
    },
    "id": "uwPWZQxZkeUM"
   },
   "outputs": [],
   "source": [
    "import torch.nn.functional as F\n",
    "from torch.utils.data import Dataset\n",
    "import torch\n",
    "\n",
    "\n",
    "class BrainSegDataset(Dataset):\n",
    "    def __init__(self, image_paths, mask_paths, target_shape=(128, 128, 128)):\n",
    "        self.image_paths = image_paths\n",
    "        self.mask_paths = mask_paths\n",
    "        self.target_shape = target_shape\n",
    "\n",
    "    def __len__(self):\n",
    "        return len(self.image_paths)\n",
    "\n",
    "    def __getitem__(self, idx):\n",
    "        image = nib.load(self.image_paths[idx]).get_fdata()\n",
    "        mask = nib.load(self.mask_paths[idx]).get_fdata()\n",
    "\n",
    "        image = (image - np.min(image)) / (np.max(image) - np.min(image))\n",
    "        image = np.expand_dims(image, axis=0)\n",
    "        mask = np.expand_dims(mask, axis=0)\n",
    "\n",
    "        # Tensor’a çevir\n",
    "        image = torch.tensor(image, dtype=torch.float32)\n",
    "        mask = torch.tensor(mask, dtype=torch.float32)  # 🔧 float32 olması önemli!\n",
    "\n",
    "        # Resize [C, D, H, W] → [1, 128, 128, 128]\n",
    "        image = F.interpolate(image.unsqueeze(0), size=self.target_shape, mode='trilinear', align_corners=False).squeeze(0)\n",
    "        mask = F.interpolate(mask.unsqueeze(0), size=self.target_shape, mode='nearest').squeeze(0)\n",
    "\n",
    "        # Mask'i tekrar long yap çünkü loss fonksiyonu class label istiyor\n",
    "        mask = mask.long()\n",
    "\n",
    "        return image, mask\n"
   ]
  },
  {
   "cell_type": "code",
   "execution_count": 9,
   "metadata": {
    "colab": {
     "base_uri": "https://localhost:8080/"
    },
    "executionInfo": {
     "elapsed": 965,
     "status": "ok",
     "timestamp": 1751065917027,
     "user": {
      "displayName": "Semih Özsoy",
      "userId": "18120777553271560662"
     },
     "user_tz": -180
    },
    "id": "qdW8NZd0keWj",
    "outputId": "50dad397-357c-4cd8-f6bd-7b2c180bd149"
   },
   "outputs": [
    {
     "name": "stdout",
     "output_type": "stream",
     "text": [
      "✅ Eğitim örnekleri: 9\n",
      "✅ Doğrulama örnekleri: 3\n"
     ]
    }
   ],
   "source": [
    "from sklearn.model_selection import train_test_split\n",
    "\n",
    "# 75% eğitim, 25% doğrulama\n",
    "X_train, X_val, y_train, y_val = train_test_split(\n",
    "    paired_X, paired_Y, test_size=0.25, random_state=42\n",
    ")\n",
    "\n",
    "print(\"✅ Eğitim örnekleri:\", len(X_train))\n",
    "print(\"✅ Doğrulama örnekleri:\", len(X_val))\n"
   ]
  },
  {
   "cell_type": "code",
   "execution_count": 10,
   "metadata": {
    "colab": {
     "base_uri": "https://localhost:8080/"
    },
    "executionInfo": {
     "elapsed": 576,
     "status": "ok",
     "timestamp": 1751065917608,
     "user": {
      "displayName": "Semih Özsoy",
      "userId": "18120777553271560662"
     },
     "user_tz": -180
    },
    "id": "ld_MVTe7keZB",
    "outputId": "5c6fa977-0db0-4f9b-fec9-cf74f64fd3ad"
   },
   "outputs": [
    {
     "name": "stdout",
     "output_type": "stream",
     "text": [
      "Train batch image shape: torch.Size([2, 1, 128, 128, 128])\n",
      "Train batch mask shape : torch.Size([2, 1, 128, 128, 128])\n"
     ]
    }
   ],
   "source": [
    "from torch.utils.data import DataLoader\n",
    "import torch\n",
    "\n",
    "\n",
    "# Dataset'leri oluştur\n",
    "train_dataset = BrainSegDataset(X_train, y_train)\n",
    "val_dataset = BrainSegDataset(X_val, y_val)\n",
    "\n",
    "# DataLoader'ları oluştur\n",
    "train_loader = DataLoader(train_dataset, batch_size=2, shuffle=True)\n",
    "val_loader = DataLoader(val_dataset, batch_size=2, shuffle=False)\n",
    "\n",
    "# Örnek kontrol herhangi bi batch al\n",
    "train_sample = next(iter(train_loader))\n",
    "print(\"Train batch image shape:\", train_sample[0].shape)\n",
    "print(\"Train batch mask shape :\", train_sample[1].shape)\n"
   ]
  },
  {
   "cell_type": "code",
   "execution_count": 11,
   "metadata": {
    "executionInfo": {
     "elapsed": 2,
     "status": "ok",
     "timestamp": 1751065917636,
     "user": {
      "displayName": "Semih Özsoy",
      "userId": "18120777553271560662"
     },
     "user_tz": -180
    },
    "id": "D8GXTWxokf1v"
   },
   "outputs": [],
   "source": [
    "import numpy as np\n",
    "from collections import Counter\n",
    "\n",
    "def compute_class_weights(mask_paths, num_classes=7):\n",
    "    class_counts = Counter()\n",
    "\n",
    "    for path in mask_paths:\n",
    "        mask = nib.load(path).get_fdata().astype(np.int64)\n",
    "        classes, counts = np.unique(mask, return_counts=True)\n",
    "        for cls, count in zip(classes, counts):\n",
    "            class_counts[cls] += count\n",
    "\n",
    "    total_voxels = sum(class_counts.values())\n",
    "    weights = []\n",
    "\n",
    "    for i in range(num_classes):\n",
    "        freq = class_counts[i] / total_voxels if i in class_counts else 0.0\n",
    "        weight = 1.0 / (freq + 1e-6) if freq > 0 else 0.0\n",
    "        weights.append(weight)\n",
    "\n",
    "    weights = torch.tensor(weights, dtype=torch.float32)\n",
    "    weights = torch.log1p(weights)  # log kullanarak daha dengeli ağırlık dağılımı\n",
    "    weights = weights / weights.sum()\n",
    "\n",
    "    return weights\n"
   ]
  },
  {
   "cell_type": "code",
   "execution_count": 12,
   "metadata": {
    "executionInfo": {
     "elapsed": 14,
     "status": "ok",
     "timestamp": 1751065917667,
     "user": {
      "displayName": "Semih Özsoy",
      "userId": "18120777553271560662"
     },
     "user_tz": -180
    },
    "id": "XL1BR8B9kf43"
   },
   "outputs": [],
   "source": [
    "import torch\n",
    "import torch.nn as nn\n",
    "import torch.nn.functional as F\n",
    "\n",
    "class UNet3D(nn.Module):\n",
    "    def __init__(self, in_channels=1, out_channels=7, init_features=64):\n",
    "        super(UNet3D, self).__init__()\n",
    "        features = init_features\n",
    "\n",
    "        # Encoder\n",
    "        self.encoder1 = self._block(in_channels, features)\n",
    "        self.pool1 = nn.MaxPool3d(kernel_size=2, stride=2)\n",
    "\n",
    "        self.encoder2 = self._block(features, features * 2)\n",
    "        self.pool2 = nn.MaxPool3d(kernel_size=2, stride=2)\n",
    "\n",
    "        self.encoder3 = self._block(features * 2, features * 4)\n",
    "        self.pool3 = nn.MaxPool3d(kernel_size=2, stride=2)\n",
    "\n",
    "        # Bottleneck\n",
    "        self.bottleneck = self._block(features * 4, features * 8)\n",
    "\n",
    "        # Decoder\n",
    "        self.up3 = nn.ConvTranspose3d(features * 8, features * 4, kernel_size=2, stride=2)\n",
    "        self.decoder3 = self._block(features * 8, features * 4)\n",
    "\n",
    "        self.up2 = nn.ConvTranspose3d(features * 4, features * 2, kernel_size=2, stride=2)\n",
    "        self.decoder2 = self._block(features * 4, features * 2)\n",
    "\n",
    "        self.up1 = nn.ConvTranspose3d(features * 2, features, kernel_size=2, stride=2)\n",
    "        self.decoder1 = self._block(features * 2, features)\n",
    "\n",
    "        # Output\n",
    "        self.output_layer = nn.Conv3d(features, out_channels, kernel_size=1)\n",
    "\n",
    "    def forward(self, x):\n",
    "        enc1 = self.encoder1(x)\n",
    "        enc2 = self.encoder2(self.pool1(enc1))\n",
    "        enc3 = self.encoder3(self.pool2(enc2))\n",
    "\n",
    "        bottleneck = self.bottleneck(self.pool3(enc3))\n",
    "\n",
    "        dec3 = self.up3(bottleneck)\n",
    "        dec3 = self.decoder3(torch.cat((dec3, enc3), dim=1))\n",
    "\n",
    "        dec2 = self.up2(dec3)\n",
    "        dec2 = self.decoder2(torch.cat((dec2, enc2), dim=1))\n",
    "\n",
    "        dec1 = self.up1(dec2)\n",
    "        dec1 = self.decoder1(torch.cat((dec1, enc1), dim=1))\n",
    "\n",
    "        return self.output_layer(dec1)\n",
    "\n",
    "    def _block(self, in_channels, out_channels):\n",
    "        return nn.Sequential(\n",
    "            nn.Conv3d(in_channels, out_channels, kernel_size=3, padding=1),\n",
    "            nn.BatchNorm3d(out_channels),\n",
    "            nn.ReLU(inplace=True),\n",
    "            nn.Conv3d(out_channels, out_channels, kernel_size=3, padding=1),\n",
    "            nn.BatchNorm3d(out_channels),\n",
    "            nn.ReLU(inplace=True),\n",
    "        )\n"
   ]
  },
  {
   "cell_type": "code",
   "execution_count": 13,
   "metadata": {
    "colab": {
     "base_uri": "https://localhost:8080/"
    },
    "executionInfo": {
     "elapsed": 582,
     "status": "ok",
     "timestamp": 1751065918251,
     "user": {
      "displayName": "Semih Özsoy",
      "userId": "18120777553271560662"
     },
     "user_tz": -180
    },
    "id": "36-QtS7fkf6-",
    "outputId": "498896cf-f634-4912-aa45-d19efe67d60d"
   },
   "outputs": [
    {
     "name": "stdout",
     "output_type": "stream",
     "text": [
      "📦 Cihaz: cuda\n",
      "✅ Model output shape: torch.Size([1, 7, 128, 128, 128])\n",
      "🎯 Output sınıf dağılımı (örnek): tensor([0, 1, 2, 3, 4, 5, 6], device='cuda:0')\n"
     ]
    }
   ],
   "source": [
    "# gpu \n",
    "device = torch.device(\"cuda\" if torch.cuda.is_available() else \"cpu\")\n",
    "print(\"📦 Cihaz:\", device)\n",
    "\n",
    "# Model\n",
    "model = UNet3D(in_channels=1, out_channels=7)\n",
    "model = model.to(device)\n",
    "\n",
    "# dummy input ile test \n",
    "x = torch.randn(1, 1, 128, 128, 128).to(device)\n",
    "y = model(x)\n",
    "\n",
    "print(\"✅ Model output shape:\", y.shape)  # [1, 7, 128, 128, 128]\n",
    "print(\"🎯 Output sınıf dağılımı (örnek):\", torch.argmax(y, dim=1).unique())\n"
   ]
  },
  {
   "cell_type": "code",
   "execution_count": 14,
   "metadata": {
    "executionInfo": {
     "elapsed": 1716,
     "status": "ok",
     "timestamp": 1751065919993,
     "user": {
      "displayName": "Semih Özsoy",
      "userId": "18120777553271560662"
     },
     "user_tz": -180
    },
    "id": "VrDxfNNfkf9f"
   },
   "outputs": [],
   "source": [
    "import torch.optim as optim\n",
    "import torch.nn as nn\n",
    "\n",
    "# 🔹 Weighted CrossEntropyLoss\n",
    "class_weights = compute_class_weights(y_train)\n",
    "ce_loss_fn = nn.CrossEntropyLoss(weight=class_weights.to(device))\n"
   ]
  },
  {
   "cell_type": "code",
   "execution_count": 15,
   "metadata": {
    "executionInfo": {
     "elapsed": 1086,
     "status": "ok",
     "timestamp": 1751065921101,
     "user": {
      "displayName": "Semih Özsoy",
      "userId": "18120777553271560662"
     },
     "user_tz": -180
    },
    "id": "tHwQ_fFakf_u"
   },
   "outputs": [],
   "source": [
    "def dice_score(preds, targets, num_classes=7, eps=1e-6):\n",
    "    dices = []\n",
    "    preds = torch.argmax(preds, dim=1)\n",
    "\n",
    "    for cls in range(1, num_classes):\n",
    "        pred_cls = (preds == cls).float()\n",
    "        target_cls = (targets == cls).float()\n",
    "\n",
    "        intersection = (pred_cls * target_cls).sum()\n",
    "        union = pred_cls.sum() + target_cls.sum()\n",
    "        dice = (2. * intersection + eps) / (union + eps)\n",
    "        dices.append((cls, dice.item()))\n",
    "\n",
    "    return dices\n",
    "\n",
    "def dice_loss(preds, targets, num_classes=7, eps=1e-6):\n",
    "    preds = F.softmax(preds, dim=1)\n",
    "    targets_onehot = F.one_hot(targets, num_classes=num_classes).permute(0, 4, 1, 2, 3).float()\n",
    "\n",
    "    dice = 0\n",
    "    for cls in range(1, num_classes):  # class 0 (background) hariç\n",
    "        pred_cls = preds[:, cls]\n",
    "        target_cls = targets_onehot[:, cls]\n",
    "\n",
    "        intersection = (pred_cls * target_cls).sum()\n",
    "        union = pred_cls.sum() + target_cls.sum()\n",
    "        dice += (2. * intersection + eps) / (union + eps)\n",
    "\n",
    "    return 1 - (dice / (num_classes - 1))\n",
    "\n",
    "# 🔹 Combined loss fonksiyonu (CE + Dice)\n",
    "def combined_loss(preds, targets):\n",
    "    ce = ce_loss_fn(preds, targets)\n",
    "    dl = dice_loss(preds, targets)\n",
    "    return ce + dl\n",
    "\n",
    "# 🔹 Optimizer\n",
    "optimizer = optim.Adam(model.parameters(), lr=1e-4)"
   ]
  },
  {
   "cell_type": "code",
   "execution_count": 16,
   "metadata": {
    "colab": {
     "base_uri": "https://localhost:8080/"
    },
    "executionInfo": {
     "elapsed": 212829,
     "status": "ok",
     "timestamp": 1751066133933,
     "user": {
      "displayName": "Semih Özsoy",
      "userId": "18120777553271560662"
     },
     "user_tz": -180
    },
    "id": "47L8LTfkkgCG",
    "outputId": "8924b131-2fa6-4cf0-a4a2-015bf212ab00"
   },
   "outputs": [
    {
     "name": "stdout",
     "output_type": "stream",
     "text": [
      "      🔸 Class 1 Dice: 0.0049\n",
      "      🔸 Class 2 Dice: 0.0000\n",
      "      🔸 Class 3 Dice: 0.0000\n",
      "      🔸 Class 4 Dice: 0.0000\n",
      "      🔸 Class 5 Dice: 0.0000\n",
      "      🔸 Class 6 Dice: 0.0000\n",
      "      🔸 Class 1 Dice: 0.0086\n",
      "      🔸 Class 2 Dice: 0.0000\n",
      "      🔸 Class 3 Dice: 0.0000\n",
      "      🔸 Class 4 Dice: 0.0000\n",
      "      🔸 Class 5 Dice: 0.0000\n",
      "      🔸 Class 6 Dice: 0.0000\n",
      "\n",
      "📘 Epoch [1/30]\n",
      "   🔹 Train Loss: 2.6050\n",
      "   🔹 Val Loss  : 2.9235\n",
      "   🔹 Avg Dice  : 0.0011\n",
      "\n",
      "      🔸 Class 1 Dice: 0.0113\n",
      "      🔸 Class 2 Dice: 0.0000\n",
      "      🔸 Class 3 Dice: 0.1868\n",
      "      🔸 Class 4 Dice: 0.0000\n",
      "      🔸 Class 5 Dice: 0.0107\n",
      "      🔸 Class 6 Dice: 0.0000\n",
      "      🔸 Class 1 Dice: 0.0286\n",
      "      🔸 Class 2 Dice: 0.0000\n",
      "      🔸 Class 3 Dice: 0.2123\n",
      "      🔸 Class 4 Dice: 0.0000\n",
      "      🔸 Class 5 Dice: 0.0024\n",
      "      🔸 Class 6 Dice: 0.0000\n",
      "\n",
      "📘 Epoch [2/30]\n",
      "   🔹 Train Loss: 2.1875\n",
      "   🔹 Val Loss  : 2.8596\n",
      "   🔹 Avg Dice  : 0.0377\n",
      "\n",
      "      🔸 Class 1 Dice: 0.0003\n",
      "      🔸 Class 2 Dice: 0.0000\n",
      "      🔸 Class 3 Dice: 0.4608\n",
      "      🔸 Class 4 Dice: 0.0002\n",
      "      🔸 Class 5 Dice: 0.0000\n",
      "      🔸 Class 6 Dice: 0.0000\n",
      "      🔸 Class 1 Dice: 0.0003\n",
      "      🔸 Class 2 Dice: 0.0000\n",
      "      🔸 Class 3 Dice: 0.4617\n",
      "      🔸 Class 4 Dice: 0.0001\n",
      "      🔸 Class 5 Dice: 0.0000\n",
      "      🔸 Class 6 Dice: 0.0000\n",
      "\n",
      "📘 Epoch [3/30]\n",
      "   🔹 Train Loss: 2.0419\n",
      "   🔹 Val Loss  : 2.7601\n",
      "   🔹 Avg Dice  : 0.0770\n",
      "\n",
      "      🔸 Class 1 Dice: 0.0001\n",
      "      🔸 Class 2 Dice: 0.0000\n",
      "      🔸 Class 3 Dice: 0.4306\n",
      "      🔸 Class 4 Dice: 0.0843\n",
      "      🔸 Class 5 Dice: 0.0000\n",
      "      🔸 Class 6 Dice: 0.0000\n",
      "      🔸 Class 1 Dice: 0.0000\n",
      "      🔸 Class 2 Dice: 0.0000\n",
      "      🔸 Class 3 Dice: 0.4338\n",
      "      🔸 Class 4 Dice: 0.1388\n",
      "      🔸 Class 5 Dice: 0.0000\n",
      "      🔸 Class 6 Dice: 0.0000\n",
      "\n",
      "📘 Epoch [4/30]\n",
      "   🔹 Train Loss: 1.9692\n",
      "   🔹 Val Loss  : 2.7126\n",
      "   🔹 Avg Dice  : 0.0906\n",
      "\n",
      "      🔸 Class 1 Dice: 0.0000\n",
      "      🔸 Class 2 Dice: 0.0000\n",
      "      🔸 Class 3 Dice: 0.4109\n",
      "      🔸 Class 4 Dice: 0.0286\n",
      "      🔸 Class 5 Dice: 0.0000\n",
      "      🔸 Class 6 Dice: 0.0000\n",
      "      🔸 Class 1 Dice: 0.0000\n",
      "      🔸 Class 2 Dice: 0.0000\n",
      "      🔸 Class 3 Dice: 0.4127\n",
      "      🔸 Class 4 Dice: 0.0429\n",
      "      🔸 Class 5 Dice: 0.0000\n",
      "      🔸 Class 6 Dice: 0.0000\n",
      "\n",
      "📘 Epoch [5/30]\n",
      "   🔹 Train Loss: 1.9162\n",
      "   🔹 Val Loss  : 2.7810\n",
      "   🔹 Avg Dice  : 0.0746\n",
      "\n",
      "      🔸 Class 1 Dice: 0.0000\n",
      "      🔸 Class 2 Dice: 0.0000\n",
      "      🔸 Class 3 Dice: 0.3964\n",
      "      🔸 Class 4 Dice: 0.0368\n",
      "      🔸 Class 5 Dice: 0.0000\n",
      "      🔸 Class 6 Dice: 0.0000\n",
      "      🔸 Class 1 Dice: 0.0000\n",
      "      🔸 Class 2 Dice: 0.0000\n",
      "      🔸 Class 3 Dice: 0.3976\n",
      "      🔸 Class 4 Dice: 0.0528\n",
      "      🔸 Class 5 Dice: 0.0000\n",
      "      🔸 Class 6 Dice: 0.0000\n",
      "\n",
      "📘 Epoch [6/30]\n",
      "   🔹 Train Loss: 1.8853\n",
      "   🔹 Val Loss  : 2.8880\n",
      "   🔹 Avg Dice  : 0.0736\n",
      "\n",
      "      🔸 Class 1 Dice: 0.0000\n",
      "      🔸 Class 2 Dice: 0.0000\n",
      "      🔸 Class 3 Dice: 0.4056\n",
      "      🔸 Class 4 Dice: 0.0968\n",
      "      🔸 Class 5 Dice: 0.0000\n",
      "      🔸 Class 6 Dice: 0.0000\n",
      "      🔸 Class 1 Dice: 0.0000\n",
      "      🔸 Class 2 Dice: 0.0000\n",
      "      🔸 Class 3 Dice: 0.4072\n",
      "      🔸 Class 4 Dice: 0.1465\n",
      "      🔸 Class 5 Dice: 0.0000\n",
      "      🔸 Class 6 Dice: 0.0000\n",
      "\n",
      "📘 Epoch [7/30]\n",
      "   🔹 Train Loss: 1.8573\n",
      "   🔹 Val Loss  : 2.8638\n",
      "   🔹 Avg Dice  : 0.0880\n",
      "\n",
      "      🔸 Class 1 Dice: 0.0000\n",
      "      🔸 Class 2 Dice: 0.0000\n",
      "      🔸 Class 3 Dice: 0.4022\n",
      "      🔸 Class 4 Dice: 0.2008\n",
      "      🔸 Class 5 Dice: 0.0000\n",
      "      🔸 Class 6 Dice: 0.0000\n",
      "      🔸 Class 1 Dice: 0.0000\n",
      "      🔸 Class 2 Dice: 0.0000\n",
      "      🔸 Class 3 Dice: 0.4001\n",
      "      🔸 Class 4 Dice: 0.3563\n",
      "      🔸 Class 5 Dice: 0.0000\n",
      "      🔸 Class 6 Dice: 0.0000\n",
      "\n",
      "📘 Epoch [8/30]\n",
      "   🔹 Train Loss: 1.8267\n",
      "   🔹 Val Loss  : 2.9021\n",
      "   🔹 Avg Dice  : 0.1133\n",
      "\n",
      "      🔸 Class 1 Dice: 0.0000\n",
      "      🔸 Class 2 Dice: 0.0000\n",
      "      🔸 Class 3 Dice: 0.4476\n",
      "      🔸 Class 4 Dice: 0.3667\n",
      "      🔸 Class 5 Dice: 0.0000\n",
      "      🔸 Class 6 Dice: 0.0000\n",
      "      🔸 Class 1 Dice: 0.0000\n",
      "      🔸 Class 2 Dice: 0.0000\n",
      "      🔸 Class 3 Dice: 0.4506\n",
      "      🔸 Class 4 Dice: 0.5627\n",
      "      🔸 Class 5 Dice: 0.0000\n",
      "      🔸 Class 6 Dice: 0.5714\n",
      "\n",
      "📘 Epoch [9/30]\n",
      "   🔹 Train Loss: 1.7996\n",
      "   🔹 Val Loss  : 2.5251\n",
      "   🔹 Avg Dice  : 0.1999\n",
      "\n",
      "      🔸 Class 1 Dice: 0.0000\n",
      "      🔸 Class 2 Dice: 0.0010\n",
      "      🔸 Class 3 Dice: 0.4796\n",
      "      🔸 Class 4 Dice: 0.4840\n",
      "      🔸 Class 5 Dice: 0.0000\n",
      "      🔸 Class 6 Dice: 0.0000\n",
      "      🔸 Class 1 Dice: 0.0000\n",
      "      🔸 Class 2 Dice: 0.0027\n",
      "      🔸 Class 3 Dice: 0.4872\n",
      "      🔸 Class 4 Dice: 0.7065\n",
      "      🔸 Class 5 Dice: 0.0000\n",
      "      🔸 Class 6 Dice: 0.7910\n",
      "\n",
      "📘 Epoch [10/30]\n",
      "   🔹 Train Loss: 1.7923\n",
      "   🔹 Val Loss  : 2.2986\n",
      "   🔹 Avg Dice  : 0.2460\n",
      "\n",
      "      🔸 Class 1 Dice: 0.0000\n",
      "      🔸 Class 2 Dice: 0.0228\n",
      "      🔸 Class 3 Dice: 0.5026\n",
      "      🔸 Class 4 Dice: 0.5537\n",
      "      🔸 Class 5 Dice: 0.0000\n",
      "      🔸 Class 6 Dice: 0.0000\n",
      "      🔸 Class 1 Dice: 0.0000\n",
      "      🔸 Class 2 Dice: 0.0782\n",
      "      🔸 Class 3 Dice: 0.5146\n",
      "      🔸 Class 4 Dice: 0.7914\n",
      "      🔸 Class 5 Dice: 0.0000\n",
      "      🔸 Class 6 Dice: 0.7904\n",
      "\n",
      "📘 Epoch [11/30]\n",
      "   🔹 Train Loss: 1.7791\n",
      "   🔹 Val Loss  : 2.1716\n",
      "   🔹 Avg Dice  : 0.2711\n",
      "\n",
      "      🔸 Class 1 Dice: 0.0002\n",
      "      🔸 Class 2 Dice: 0.1569\n",
      "      🔸 Class 3 Dice: 0.6389\n",
      "      🔸 Class 4 Dice: 0.5319\n",
      "      🔸 Class 5 Dice: 0.0006\n",
      "      🔸 Class 6 Dice: 0.0202\n",
      "      🔸 Class 1 Dice: 0.0000\n",
      "      🔸 Class 2 Dice: 0.3128\n",
      "      🔸 Class 3 Dice: 0.6624\n",
      "      🔸 Class 4 Dice: 0.7698\n",
      "      🔸 Class 5 Dice: 0.0000\n",
      "      🔸 Class 6 Dice: 0.3882\n",
      "\n",
      "📘 Epoch [12/30]\n",
      "   🔹 Train Loss: 1.7551\n",
      "   🔹 Val Loss  : 1.9177\n",
      "   🔹 Avg Dice  : 0.2902\n",
      "\n",
      "      🔸 Class 1 Dice: 0.0000\n",
      "      🔸 Class 2 Dice: 0.1361\n",
      "      🔸 Class 3 Dice: 0.5958\n",
      "      🔸 Class 4 Dice: 0.5921\n",
      "      🔸 Class 5 Dice: 0.0214\n",
      "      🔸 Class 6 Dice: 0.0001\n",
      "      🔸 Class 1 Dice: 0.0000\n",
      "      🔸 Class 2 Dice: 0.2881\n",
      "      🔸 Class 3 Dice: 0.6286\n",
      "      🔸 Class 4 Dice: 0.8446\n",
      "      🔸 Class 5 Dice: 0.0137\n",
      "      🔸 Class 6 Dice: 0.7864\n",
      "\n",
      "📘 Epoch [13/30]\n",
      "   🔹 Train Loss: 1.7359\n",
      "   🔹 Val Loss  : 1.9150\n",
      "   🔹 Avg Dice  : 0.3256\n",
      "\n",
      "      🔸 Class 1 Dice: 0.0016\n",
      "      🔸 Class 2 Dice: 0.3225\n",
      "      🔸 Class 3 Dice: 0.7255\n",
      "      🔸 Class 4 Dice: 0.5145\n",
      "      🔸 Class 5 Dice: 0.0717\n",
      "      🔸 Class 6 Dice: 0.0464\n",
      "      🔸 Class 1 Dice: 0.0002\n",
      "      🔸 Class 2 Dice: 0.4502\n",
      "      🔸 Class 3 Dice: 0.7613\n",
      "      🔸 Class 4 Dice: 0.7894\n",
      "      🔸 Class 5 Dice: 0.0462\n",
      "      🔸 Class 6 Dice: 0.7444\n",
      "\n",
      "📘 Epoch [14/30]\n",
      "   🔹 Train Loss: 1.7340\n",
      "   🔹 Val Loss  : 1.7842\n",
      "   🔹 Avg Dice  : 0.3728\n",
      "\n",
      "      🔸 Class 1 Dice: 0.0000\n",
      "      🔸 Class 2 Dice: 0.2697\n",
      "      🔸 Class 3 Dice: 0.8169\n",
      "      🔸 Class 4 Dice: 0.5817\n",
      "      🔸 Class 5 Dice: 0.0865\n",
      "      🔸 Class 6 Dice: 0.0277\n",
      "      🔸 Class 1 Dice: 0.0000\n",
      "      🔸 Class 2 Dice: 0.3835\n",
      "      🔸 Class 3 Dice: 0.8244\n",
      "      🔸 Class 4 Dice: 0.8448\n",
      "      🔸 Class 5 Dice: 0.0746\n",
      "      🔸 Class 6 Dice: 0.4213\n",
      "\n",
      "📘 Epoch [15/30]\n",
      "   🔹 Train Loss: 1.7166\n",
      "   🔹 Val Loss  : 1.7721\n",
      "   🔹 Avg Dice  : 0.3609\n",
      "\n",
      "      🔸 Class 1 Dice: 0.0027\n",
      "      🔸 Class 2 Dice: 0.3908\n",
      "      🔸 Class 3 Dice: 0.8387\n",
      "      🔸 Class 4 Dice: 0.5122\n",
      "      🔸 Class 5 Dice: 0.1043\n",
      "      🔸 Class 6 Dice: 0.1883\n",
      "      🔸 Class 1 Dice: 0.0000\n",
      "      🔸 Class 2 Dice: 0.4944\n",
      "      🔸 Class 3 Dice: 0.8370\n",
      "      🔸 Class 4 Dice: 0.7634\n",
      "      🔸 Class 5 Dice: 0.0941\n",
      "      🔸 Class 6 Dice: 0.8376\n",
      "\n",
      "📘 Epoch [16/30]\n",
      "   🔹 Train Loss: 1.6974\n",
      "   🔹 Val Loss  : 1.6799\n",
      "   🔹 Avg Dice  : 0.4220\n",
      "\n",
      "      🔸 Class 1 Dice: 0.0138\n",
      "      🔸 Class 2 Dice: 0.4687\n",
      "      🔸 Class 3 Dice: 0.8799\n",
      "      🔸 Class 4 Dice: 0.5541\n",
      "      🔸 Class 5 Dice: 0.1833\n",
      "      🔸 Class 6 Dice: 0.2119\n",
      "      🔸 Class 1 Dice: 0.0009\n",
      "      🔸 Class 2 Dice: 0.5350\n",
      "      🔸 Class 3 Dice: 0.8662\n",
      "      🔸 Class 4 Dice: 0.7994\n",
      "      🔸 Class 5 Dice: 0.1409\n",
      "      🔸 Class 6 Dice: 0.8829\n",
      "\n",
      "📘 Epoch [17/30]\n",
      "   🔹 Train Loss: 1.6795\n",
      "   🔹 Val Loss  : 1.6646\n",
      "   🔹 Avg Dice  : 0.4614\n",
      "\n",
      "      🔸 Class 1 Dice: 0.0015\n",
      "      🔸 Class 2 Dice: 0.2468\n",
      "      🔸 Class 3 Dice: 0.8402\n",
      "      🔸 Class 4 Dice: 0.5229\n",
      "      🔸 Class 5 Dice: 0.2222\n",
      "      🔸 Class 6 Dice: 0.0752\n",
      "      🔸 Class 1 Dice: 0.0002\n",
      "      🔸 Class 2 Dice: 0.3543\n",
      "      🔸 Class 3 Dice: 0.8343\n",
      "      🔸 Class 4 Dice: 0.7827\n",
      "      🔸 Class 5 Dice: 0.1742\n",
      "      🔸 Class 6 Dice: 0.7098\n",
      "\n",
      "📘 Epoch [18/30]\n",
      "   🔹 Train Loss: 1.6648\n",
      "   🔹 Val Loss  : 1.6731\n",
      "   🔹 Avg Dice  : 0.3970\n",
      "\n",
      "      🔸 Class 1 Dice: 0.0034\n",
      "      🔸 Class 2 Dice: 0.3634\n",
      "      🔸 Class 3 Dice: 0.8618\n",
      "      🔸 Class 4 Dice: 0.5705\n",
      "      🔸 Class 5 Dice: 0.2878\n",
      "      🔸 Class 6 Dice: 0.2178\n",
      "      🔸 Class 1 Dice: 0.0000\n",
      "      🔸 Class 2 Dice: 0.4755\n",
      "      🔸 Class 3 Dice: 0.8547\n",
      "      🔸 Class 4 Dice: 0.8199\n",
      "      🔸 Class 5 Dice: 0.2170\n",
      "      🔸 Class 6 Dice: 0.8489\n",
      "\n",
      "📘 Epoch [19/30]\n",
      "   🔹 Train Loss: 1.6523\n",
      "   🔹 Val Loss  : 1.6345\n",
      "   🔹 Avg Dice  : 0.4601\n",
      "\n",
      "      🔸 Class 1 Dice: 0.0061\n",
      "      🔸 Class 2 Dice: 0.3137\n",
      "      🔸 Class 3 Dice: 0.8634\n",
      "      🔸 Class 4 Dice: 0.5847\n",
      "      🔸 Class 5 Dice: 0.3661\n",
      "      🔸 Class 6 Dice: 0.1617\n",
      "      🔸 Class 1 Dice: 0.0015\n",
      "      🔸 Class 2 Dice: 0.4277\n",
      "      🔸 Class 3 Dice: 0.8512\n",
      "      🔸 Class 4 Dice: 0.8392\n",
      "      🔸 Class 5 Dice: 0.2511\n",
      "      🔸 Class 6 Dice: 0.8589\n",
      "\n",
      "📘 Epoch [20/30]\n",
      "   🔹 Train Loss: 1.6433\n",
      "   🔹 Val Loss  : 1.6505\n",
      "   🔹 Avg Dice  : 0.4604\n",
      "\n",
      "      🔸 Class 1 Dice: 0.0219\n",
      "      🔸 Class 2 Dice: 0.4332\n",
      "      🔸 Class 3 Dice: 0.8901\n",
      "      🔸 Class 4 Dice: 0.5639\n",
      "      🔸 Class 5 Dice: 0.4016\n",
      "      🔸 Class 6 Dice: 0.3246\n",
      "      🔸 Class 1 Dice: 0.0067\n",
      "      🔸 Class 2 Dice: 0.4844\n",
      "      🔸 Class 3 Dice: 0.8728\n",
      "      🔸 Class 4 Dice: 0.8086\n",
      "      🔸 Class 5 Dice: 0.2963\n",
      "      🔸 Class 6 Dice: 0.8311\n",
      "\n",
      "📘 Epoch [21/30]\n",
      "   🔹 Train Loss: 1.6305\n",
      "   🔹 Val Loss  : 1.6428\n",
      "   🔹 Avg Dice  : 0.4946\n",
      "\n",
      "      🔸 Class 1 Dice: 0.0172\n",
      "      🔸 Class 2 Dice: 0.3908\n",
      "      🔸 Class 3 Dice: 0.8910\n",
      "      🔸 Class 4 Dice: 0.5735\n",
      "      🔸 Class 5 Dice: 0.4867\n",
      "      🔸 Class 6 Dice: 0.3447\n",
      "      🔸 Class 1 Dice: 0.0031\n",
      "      🔸 Class 2 Dice: 0.4521\n",
      "      🔸 Class 3 Dice: 0.8701\n",
      "      🔸 Class 4 Dice: 0.8204\n",
      "      🔸 Class 5 Dice: 0.3318\n",
      "      🔸 Class 6 Dice: 0.8385\n",
      "\n",
      "📘 Epoch [22/30]\n",
      "   🔹 Train Loss: 1.6177\n",
      "   🔹 Val Loss  : 1.6144\n",
      "   🔹 Avg Dice  : 0.5017\n",
      "\n",
      "      🔸 Class 1 Dice: 0.0348\n",
      "      🔸 Class 2 Dice: 0.3961\n",
      "      🔸 Class 3 Dice: 0.8898\n",
      "      🔸 Class 4 Dice: 0.5938\n",
      "      🔸 Class 5 Dice: 0.5398\n",
      "      🔸 Class 6 Dice: 0.2581\n",
      "      🔸 Class 1 Dice: 0.0135\n",
      "      🔸 Class 2 Dice: 0.4502\n",
      "      🔸 Class 3 Dice: 0.8720\n",
      "      🔸 Class 4 Dice: 0.8454\n",
      "      🔸 Class 5 Dice: 0.2843\n",
      "      🔸 Class 6 Dice: 0.8937\n",
      "\n",
      "📘 Epoch [23/30]\n",
      "   🔹 Train Loss: 1.5967\n",
      "   🔹 Val Loss  : 1.6116\n",
      "   🔹 Avg Dice  : 0.5059\n",
      "\n",
      "      🔸 Class 1 Dice: 0.0191\n",
      "      🔸 Class 2 Dice: 0.2921\n",
      "      🔸 Class 3 Dice: 0.8704\n",
      "      🔸 Class 4 Dice: 0.6063\n",
      "      🔸 Class 5 Dice: 0.5342\n",
      "      🔸 Class 6 Dice: 0.2460\n",
      "      🔸 Class 1 Dice: 0.0087\n",
      "      🔸 Class 2 Dice: 0.3778\n",
      "      🔸 Class 3 Dice: 0.8530\n",
      "      🔸 Class 4 Dice: 0.8516\n",
      "      🔸 Class 5 Dice: 0.3074\n",
      "      🔸 Class 6 Dice: 0.8308\n",
      "\n",
      "📘 Epoch [24/30]\n",
      "   🔹 Train Loss: 1.5975\n",
      "   🔹 Val Loss  : 1.6053\n",
      "   🔹 Avg Dice  : 0.4831\n",
      "\n",
      "      🔸 Class 1 Dice: 0.0068\n",
      "      🔸 Class 2 Dice: 0.3292\n",
      "      🔸 Class 3 Dice: 0.8902\n",
      "      🔸 Class 4 Dice: 0.6026\n",
      "      🔸 Class 5 Dice: 0.6701\n",
      "      🔸 Class 6 Dice: 0.2712\n",
      "      🔸 Class 1 Dice: 0.0022\n",
      "      🔸 Class 2 Dice: 0.4112\n",
      "      🔸 Class 3 Dice: 0.8672\n",
      "      🔸 Class 4 Dice: 0.8504\n",
      "      🔸 Class 5 Dice: 0.3489\n",
      "      🔸 Class 6 Dice: 0.8617\n",
      "\n",
      "📘 Epoch [25/30]\n",
      "   🔹 Train Loss: 1.5779\n",
      "   🔹 Val Loss  : 1.5609\n",
      "   🔹 Avg Dice  : 0.5093\n",
      "\n",
      "      🔸 Class 1 Dice: 0.0676\n",
      "      🔸 Class 2 Dice: 0.4569\n",
      "      🔸 Class 3 Dice: 0.8911\n",
      "      🔸 Class 4 Dice: 0.5991\n",
      "      🔸 Class 5 Dice: 0.6953\n",
      "      🔸 Class 6 Dice: 0.5525\n",
      "      🔸 Class 1 Dice: 0.0302\n",
      "      🔸 Class 2 Dice: 0.4790\n",
      "      🔸 Class 3 Dice: 0.8742\n",
      "      🔸 Class 4 Dice: 0.8456\n",
      "      🔸 Class 5 Dice: 0.3800\n",
      "      🔸 Class 6 Dice: 0.8309\n",
      "\n",
      "📘 Epoch [26/30]\n",
      "   🔹 Train Loss: 1.5625\n",
      "   🔹 Val Loss  : 1.5693\n",
      "   🔹 Avg Dice  : 0.5585\n",
      "\n",
      "      🔸 Class 1 Dice: 0.0411\n",
      "      🔸 Class 2 Dice: 0.4369\n",
      "      🔸 Class 3 Dice: 0.8987\n",
      "      🔸 Class 4 Dice: 0.5904\n",
      "      🔸 Class 5 Dice: 0.6866\n",
      "      🔸 Class 6 Dice: 0.5760\n",
      "      🔸 Class 1 Dice: 0.0241\n",
      "      🔸 Class 2 Dice: 0.4751\n",
      "      🔸 Class 3 Dice: 0.8750\n",
      "      🔸 Class 4 Dice: 0.8445\n",
      "      🔸 Class 5 Dice: 0.3644\n",
      "      🔸 Class 6 Dice: 0.8378\n",
      "\n",
      "📘 Epoch [27/30]\n",
      "   🔹 Train Loss: 1.5493\n",
      "   🔹 Val Loss  : 1.5744\n",
      "   🔹 Avg Dice  : 0.5542\n",
      "\n",
      "      🔸 Class 1 Dice: 0.0250\n",
      "      🔸 Class 2 Dice: 0.3063\n",
      "      🔸 Class 3 Dice: 0.8724\n",
      "      🔸 Class 4 Dice: 0.6272\n",
      "      🔸 Class 5 Dice: 0.6418\n",
      "      🔸 Class 6 Dice: 0.1524\n",
      "      🔸 Class 1 Dice: 0.0134\n",
      "      🔸 Class 2 Dice: 0.3803\n",
      "      🔸 Class 3 Dice: 0.8558\n",
      "      🔸 Class 4 Dice: 0.8862\n",
      "      🔸 Class 5 Dice: 0.3653\n",
      "      🔸 Class 6 Dice: 0.8913\n",
      "\n",
      "📘 Epoch [28/30]\n",
      "   🔹 Train Loss: 1.5442\n",
      "   🔹 Val Loss  : 1.5571\n",
      "   🔹 Avg Dice  : 0.5015\n",
      "\n",
      "      🔸 Class 1 Dice: 0.0204\n",
      "      🔸 Class 2 Dice: 0.5107\n",
      "      🔸 Class 3 Dice: 0.8979\n",
      "      🔸 Class 4 Dice: 0.5873\n",
      "      🔸 Class 5 Dice: 0.6312\n",
      "      🔸 Class 6 Dice: 0.5604\n",
      "      🔸 Class 1 Dice: 0.0103\n",
      "      🔸 Class 2 Dice: 0.5342\n",
      "      🔸 Class 3 Dice: 0.8744\n",
      "      🔸 Class 4 Dice: 0.8178\n",
      "      🔸 Class 5 Dice: 0.4047\n",
      "      🔸 Class 6 Dice: 0.8159\n",
      "\n",
      "📘 Epoch [29/30]\n",
      "   🔹 Train Loss: 1.5300\n",
      "   🔹 Val Loss  : 1.5327\n",
      "   🔹 Avg Dice  : 0.5554\n",
      "\n",
      "      🔸 Class 1 Dice: 0.1102\n",
      "      🔸 Class 2 Dice: 0.5166\n",
      "      🔸 Class 3 Dice: 0.8965\n",
      "      🔸 Class 4 Dice: 0.5919\n",
      "      🔸 Class 5 Dice: 0.6786\n",
      "      🔸 Class 6 Dice: 0.4190\n",
      "      🔸 Class 1 Dice: 0.0693\n",
      "      🔸 Class 2 Dice: 0.5548\n",
      "      🔸 Class 3 Dice: 0.8730\n",
      "      🔸 Class 4 Dice: 0.8332\n",
      "      🔸 Class 5 Dice: 0.4143\n",
      "      🔸 Class 6 Dice: 0.7913\n",
      "\n",
      "📘 Epoch [30/30]\n",
      "   🔹 Train Loss: 1.5184\n",
      "   🔹 Val Loss  : 1.5386\n",
      "   🔹 Avg Dice  : 0.5624\n",
      "\n"
     ]
    }
   ],
   "source": [
    "import gc\n",
    "import os\n",
    "os.environ[\"PYTORCH_CUDA_ALLOC_CONF\"] = \"expandable_segments:True\"\n",
    "\n",
    "train_loader = DataLoader(train_dataset, batch_size=2, shuffle=True)\n",
    "val_loader = DataLoader(val_dataset, batch_size=2, shuffle=False)\n",
    "\n",
    "num_epochs = 30\n",
    "\n",
    "for epoch in range(num_epochs):\n",
    "    model.train()\n",
    "    train_loss = 0.0\n",
    "\n",
    "    for images, masks in train_loader:\n",
    "        images = images.to(device, non_blocking=True)\n",
    "        masks = masks.to(device, non_blocking=True).squeeze(1).long()\n",
    "\n",
    "        outputs = model(images)\n",
    "        loss = combined_loss(outputs, masks)\n",
    "\n",
    "        optimizer.zero_grad()\n",
    "        loss.backward()\n",
    "        optimizer.step()\n",
    "\n",
    "        train_loss += loss.item()\n",
    "\n",
    "        # Bellek temizliği\n",
    "        del images, masks, outputs, loss\n",
    "        torch.cuda.empty_cache()\n",
    "        gc.collect()\n",
    "\n",
    "    avg_train_loss = train_loss / len(train_loader)\n",
    "\n",
    "    # Validation\n",
    "    model.eval()\n",
    "    val_loss = 0.0\n",
    "    dice_total = 0.0\n",
    "    dice_count = 0\n",
    "\n",
    "    with torch.no_grad():\n",
    "        for images, masks in val_loader:\n",
    "            images = images.to(device, non_blocking=True)\n",
    "            masks = masks.to(device, non_blocking=True).squeeze(1).long()\n",
    "\n",
    "            outputs = model(images)\n",
    "            loss = combined_loss(outputs, masks)\n",
    "\n",
    "            val_loss += loss.item()\n",
    "\n",
    "            dice_scores = dice_score(outputs, masks)\n",
    "            for cls, d in dice_scores:\n",
    "                print(f\"      🔸 Class {cls} Dice: {d:.4f}\")\n",
    "                dice_total += d\n",
    "                dice_count += 1\n",
    "\n",
    "            # Bellek temizliği\n",
    "            del images, masks, outputs, loss\n",
    "            torch.cuda.empty_cache()\n",
    "            gc.collect()\n",
    "\n",
    "    avg_val_loss = val_loss / len(val_loader)\n",
    "    avg_dice = dice_total / dice_count if dice_count > 0 else 0.0\n",
    "\n",
    "    print(f\"\\n📘 Epoch [{epoch+1}/{num_epochs}]\")\n",
    "    print(f\"   🔹 Train Loss: {avg_train_loss:.4f}\")\n",
    "    print(f\"   🔹 Val Loss  : {avg_val_loss:.4f}\")\n",
    "    print(f\"   🔹 Avg Dice  : {avg_dice:.4f}\\n\")\n"
   ]
  },
  {
   "cell_type": "code",
   "execution_count": 17,
   "metadata": {
    "executionInfo": {
     "elapsed": 118,
     "status": "ok",
     "timestamp": 1751066299206,
     "user": {
      "displayName": "Semih Özsoy",
      "userId": "18120777553271560662"
     },
     "user_tz": -180
    },
    "id": "kUI83l05kgEh"
   },
   "outputs": [],
   "source": [
    "torch.save(model.state_dict(), \"unet3d_model_v2.pth\")\n"
   ]
  },
  {
   "cell_type": "code",
   "execution_count": 18,
   "metadata": {
    "colab": {
     "base_uri": "https://localhost:8080/"
    },
    "executionInfo": {
     "elapsed": 273,
     "status": "ok",
     "timestamp": 1751066312703,
     "user": {
      "displayName": "Semih Özsoy",
      "userId": "18120777553271560662"
     },
     "user_tz": -180
    },
    "id": "NdGZyjc5kgG5",
    "outputId": "b76ce629-2ca7-47e9-e3e6-a305c52a8f61"
   },
   "outputs": [
    {
     "data": {
      "text/plain": [
       "UNet3D(\n",
       "  (encoder1): Sequential(\n",
       "    (0): Conv3d(1, 64, kernel_size=(3, 3, 3), stride=(1, 1, 1), padding=(1, 1, 1))\n",
       "    (1): BatchNorm3d(64, eps=1e-05, momentum=0.1, affine=True, track_running_stats=True)\n",
       "    (2): ReLU(inplace=True)\n",
       "    (3): Conv3d(64, 64, kernel_size=(3, 3, 3), stride=(1, 1, 1), padding=(1, 1, 1))\n",
       "    (4): BatchNorm3d(64, eps=1e-05, momentum=0.1, affine=True, track_running_stats=True)\n",
       "    (5): ReLU(inplace=True)\n",
       "  )\n",
       "  (pool1): MaxPool3d(kernel_size=2, stride=2, padding=0, dilation=1, ceil_mode=False)\n",
       "  (encoder2): Sequential(\n",
       "    (0): Conv3d(64, 128, kernel_size=(3, 3, 3), stride=(1, 1, 1), padding=(1, 1, 1))\n",
       "    (1): BatchNorm3d(128, eps=1e-05, momentum=0.1, affine=True, track_running_stats=True)\n",
       "    (2): ReLU(inplace=True)\n",
       "    (3): Conv3d(128, 128, kernel_size=(3, 3, 3), stride=(1, 1, 1), padding=(1, 1, 1))\n",
       "    (4): BatchNorm3d(128, eps=1e-05, momentum=0.1, affine=True, track_running_stats=True)\n",
       "    (5): ReLU(inplace=True)\n",
       "  )\n",
       "  (pool2): MaxPool3d(kernel_size=2, stride=2, padding=0, dilation=1, ceil_mode=False)\n",
       "  (encoder3): Sequential(\n",
       "    (0): Conv3d(128, 256, kernel_size=(3, 3, 3), stride=(1, 1, 1), padding=(1, 1, 1))\n",
       "    (1): BatchNorm3d(256, eps=1e-05, momentum=0.1, affine=True, track_running_stats=True)\n",
       "    (2): ReLU(inplace=True)\n",
       "    (3): Conv3d(256, 256, kernel_size=(3, 3, 3), stride=(1, 1, 1), padding=(1, 1, 1))\n",
       "    (4): BatchNorm3d(256, eps=1e-05, momentum=0.1, affine=True, track_running_stats=True)\n",
       "    (5): ReLU(inplace=True)\n",
       "  )\n",
       "  (pool3): MaxPool3d(kernel_size=2, stride=2, padding=0, dilation=1, ceil_mode=False)\n",
       "  (bottleneck): Sequential(\n",
       "    (0): Conv3d(256, 512, kernel_size=(3, 3, 3), stride=(1, 1, 1), padding=(1, 1, 1))\n",
       "    (1): BatchNorm3d(512, eps=1e-05, momentum=0.1, affine=True, track_running_stats=True)\n",
       "    (2): ReLU(inplace=True)\n",
       "    (3): Conv3d(512, 512, kernel_size=(3, 3, 3), stride=(1, 1, 1), padding=(1, 1, 1))\n",
       "    (4): BatchNorm3d(512, eps=1e-05, momentum=0.1, affine=True, track_running_stats=True)\n",
       "    (5): ReLU(inplace=True)\n",
       "  )\n",
       "  (up3): ConvTranspose3d(512, 256, kernel_size=(2, 2, 2), stride=(2, 2, 2))\n",
       "  (decoder3): Sequential(\n",
       "    (0): Conv3d(512, 256, kernel_size=(3, 3, 3), stride=(1, 1, 1), padding=(1, 1, 1))\n",
       "    (1): BatchNorm3d(256, eps=1e-05, momentum=0.1, affine=True, track_running_stats=True)\n",
       "    (2): ReLU(inplace=True)\n",
       "    (3): Conv3d(256, 256, kernel_size=(3, 3, 3), stride=(1, 1, 1), padding=(1, 1, 1))\n",
       "    (4): BatchNorm3d(256, eps=1e-05, momentum=0.1, affine=True, track_running_stats=True)\n",
       "    (5): ReLU(inplace=True)\n",
       "  )\n",
       "  (up2): ConvTranspose3d(256, 128, kernel_size=(2, 2, 2), stride=(2, 2, 2))\n",
       "  (decoder2): Sequential(\n",
       "    (0): Conv3d(256, 128, kernel_size=(3, 3, 3), stride=(1, 1, 1), padding=(1, 1, 1))\n",
       "    (1): BatchNorm3d(128, eps=1e-05, momentum=0.1, affine=True, track_running_stats=True)\n",
       "    (2): ReLU(inplace=True)\n",
       "    (3): Conv3d(128, 128, kernel_size=(3, 3, 3), stride=(1, 1, 1), padding=(1, 1, 1))\n",
       "    (4): BatchNorm3d(128, eps=1e-05, momentum=0.1, affine=True, track_running_stats=True)\n",
       "    (5): ReLU(inplace=True)\n",
       "  )\n",
       "  (up1): ConvTranspose3d(128, 64, kernel_size=(2, 2, 2), stride=(2, 2, 2))\n",
       "  (decoder1): Sequential(\n",
       "    (0): Conv3d(128, 64, kernel_size=(3, 3, 3), stride=(1, 1, 1), padding=(1, 1, 1))\n",
       "    (1): BatchNorm3d(64, eps=1e-05, momentum=0.1, affine=True, track_running_stats=True)\n",
       "    (2): ReLU(inplace=True)\n",
       "    (3): Conv3d(64, 64, kernel_size=(3, 3, 3), stride=(1, 1, 1), padding=(1, 1, 1))\n",
       "    (4): BatchNorm3d(64, eps=1e-05, momentum=0.1, affine=True, track_running_stats=True)\n",
       "    (5): ReLU(inplace=True)\n",
       "  )\n",
       "  (output_layer): Conv3d(64, 7, kernel_size=(1, 1, 1), stride=(1, 1, 1))\n",
       ")"
      ]
     },
     "execution_count": 18,
     "metadata": {},
     "output_type": "execute_result"
    }
   ],
   "source": [
    "model = UNet3D(in_channels=1, out_channels=7)\n",
    "model.load_state_dict(torch.load(\"unet3d_model_v2.pth\"))\n",
    "model = model.to(device)\n",
    "model.eval()\n"
   ]
  },
  {
   "cell_type": "code",
   "execution_count": 19,
   "metadata": {
    "executionInfo": {
     "elapsed": 659,
     "status": "ok",
     "timestamp": 1751066324094,
     "user": {
      "displayName": "Semih Özsoy",
      "userId": "18120777553271560662"
     },
     "user_tz": -180
    },
    "id": "2RYbkpLHkgJl"
   },
   "outputs": [],
   "source": [
    "import matplotlib.pyplot as plt\n",
    "import numpy as np\n",
    "\n",
    "test_image_path = paired_X[0]\n",
    "test_mask_path = paired_Y[0]\n",
    "\n",
    "image = nib.load(test_image_path).get_fdata()\n",
    "image = (image - np.min(image)) / (np.max(image) - np.min(image))\n",
    "image = np.expand_dims(image, axis=0)  # [1, D, H, W]\n",
    "image_tensor = torch.tensor(image, dtype=torch.float32).unsqueeze(0).to(device)  # [1, 1, D, H, W]\n",
    "\n",
    "# Model çıktısı\n",
    "with torch.no_grad():\n",
    "    output = model(image_tensor)\n",
    "    prediction = torch.argmax(output, dim=1).squeeze(0).cpu().numpy()  # [D, H, W]\n"
   ]
  },
  {
   "cell_type": "code",
   "execution_count": 20,
   "metadata": {
    "colab": {
     "base_uri": "https://localhost:8080/",
     "height": 408
    },
    "executionInfo": {
     "elapsed": 403,
     "status": "ok",
     "timestamp": 1751066335473,
     "user": {
      "displayName": "Semih Özsoy",
      "userId": "18120777553271560662"
     },
     "user_tz": -180
    },
    "id": "0XjFep8MkgMX",
    "outputId": "aaef51ba-6fcd-4d5d-e6cc-e06e8464331b"
   },
   "outputs": [
    {
     "data": {
      "image/png": "[encoded data removed]",
      "text/plain": [
       "<Figure size 1500x500 with 3 Axes>"
      ]
     },
     "metadata": {},
     "output_type": "display_data"
    }
   ],
   "source": [
    "def plot_slices(pred, title=\"Prediction\", num_slices=3):\n",
    "    d, h, w = pred.shape\n",
    "    fig, axs = plt.subplots(1, num_slices, figsize=(15, 5))\n",
    "    slice_indices = [d//2, h//2, w//2]\n",
    "\n",
    "    axs[0].imshow(pred[slice_indices[0], :, :], cmap=\"nipy_spectral\")\n",
    "    axs[0].set_title(f\"{title} - Axial\")\n",
    "\n",
    "    axs[1].imshow(pred[:, slice_indices[1], :], cmap=\"nipy_spectral\")\n",
    "    axs[1].set_title(f\"{title} - Coronal\")\n",
    "\n",
    "    axs[2].imshow(pred[:, :, slice_indices[2]], cmap=\"nipy_spectral\")\n",
    "    axs[2].set_title(f\"{title} - Sagittal\")\n",
    "\n",
    "    for ax in axs: ax.axis('off')\n",
    "    plt.tight_layout()\n",
    "    plt.show()\n",
    "\n",
    "plot_slices(prediction)\n"
   ]
  },
  {
   "cell_type": "code",
   "execution_count": 21,
   "metadata": {
    "colab": {
     "base_uri": "https://localhost:8080/",
     "height": 401
    },
    "executionInfo": {
     "elapsed": 341,
     "status": "ok",
     "timestamp": 1751066400417,
     "user": {
      "displayName": "Semih Özsoy",
      "userId": "18120777553271560662"
     },
     "user_tz": -180
    },
    "id": "5s3koIGwr8Po",
    "outputId": "fe78e5ad-7c4f-49df-b07f-3e1db7c6d2bc"
   },
   "outputs": [
    {
     "data": {
      "image/png": "[encoded data removed]",
      "text/plain": [
       "<Figure size 1500x500 with 3 Axes>"
      ]
     },
     "metadata": {},
     "output_type": "display_data"
    }
   ],
   "source": [
    "gt = nib.load(test_mask_path).get_fdata().astype(np.int64)\n",
    "gt = F.interpolate(torch.tensor(gt[None, None, ...], dtype=torch.float32), size=(128, 128, 128), mode=\"nearest\").squeeze().numpy()\n",
    "plot_slices(gt, title=\"Ground Truth\")\n"
   ]
  },
  {
   "cell_type": "code",
   "execution_count": 16,
   "metadata": {
    "executionInfo": {
     "elapsed": 1,
     "status": "ok",
     "timestamp": 1751066133987,
     "user": {
      "displayName": "Semih Özsoy",
      "userId": "18120777553271560662"
     },
     "user_tz": -180
    },
    "id": "fR5a3As9kgOe"
   },
   "outputs": [],
   "source": []
  },
  {
   "cell_type": "code",
   "execution_count": 16,
   "metadata": {
    "executionInfo": {
     "elapsed": 10,
     "status": "ok",
     "timestamp": 1751066133999,
     "user": {
      "displayName": "Semih Özsoy",
      "userId": "18120777553271560662"
     },
     "user_tz": -180
    },
    "id": "JH8gKP_KkgRU"
   },
   "outputs": [],
   "source": []
  },
  {
   "cell_type": "code",
   "execution_count": 16,
   "metadata": {
    "executionInfo": {
     "elapsed": 2,
     "status": "ok",
     "timestamp": 1751066134010,
     "user": {
      "displayName": "Semih Özsoy",
      "userId": "18120777553271560662"
     },
     "user_tz": -180
    },
    "id": "OD5JlIUZkgTd"
   },
   "outputs": [],
   "source": []
  },
  {
   "cell_type": "code",
   "execution_count": 16,
   "metadata": {
    "executionInfo": {
     "elapsed": 1,
     "status": "ok",
     "timestamp": 1751066134013,
     "user": {
      "displayName": "Semih Özsoy",
      "userId": "18120777553271560662"
     },
     "user_tz": -180
    },
    "id": "9ETVXt3mkgWD"
   },
   "outputs": [],
   "source": []
  },
  {
   "cell_type": "code",
   "execution_count": 16,
   "metadata": {
    "executionInfo": {
     "elapsed": 1,
     "status": "ok",
     "timestamp": 1751066134016,
     "user": {
      "displayName": "Semih Özsoy",
      "userId": "18120777553271560662"
     },
     "user_tz": -180
    },
    "id": "nsIbUD1QkgYu"
   },
   "outputs": [],
   "source": []
  },
  {
   "cell_type": "code",
   "execution_count": 16,
   "metadata": {
    "executionInfo": {
     "elapsed": 1,
     "status": "ok",
     "timestamp": 1751066134019,
     "user": {
      "displayName": "Semih Özsoy",
      "userId": "18120777553271560662"
     },
     "user_tz": -180
    },
    "id": "ICM9SXhbkgbE"
   },
   "outputs": [],
   "source": []
  },
  {
   "cell_type": "code",
   "execution_count": 16,
   "metadata": {
    "executionInfo": {
     "elapsed": 11,
     "status": "ok",
     "timestamp": 1751066134031,
     "user": {
      "displayName": "Semih Özsoy",
      "userId": "18120777553271560662"
     },
     "user_tz": -180
    },
    "id": "WaMmOE4Akgdh"
   },
   "outputs": [],
   "source": []
  },
  {
   "cell_type": "code",
   "execution_count": 16,
   "metadata": {
    "executionInfo": {
     "elapsed": 3,
     "status": "ok",
     "timestamp": 1751066134046,
     "user": {
      "displayName": "Semih Özsoy",
      "userId": "18120777553271560662"
     },
     "user_tz": -180
    },
    "id": "04evk4oZkgf9"
   },
   "outputs": [],
   "source": []
  },
  {
   "cell_type": "code",
   "execution_count": 16,
   "metadata": {
    "executionInfo": {
     "elapsed": 3,
     "status": "ok",
     "timestamp": 1751066134051,
     "user": {
      "displayName": "Semih Özsoy",
      "userId": "18120777553271560662"
     },
     "user_tz": -180
    },
    "id": "i7kQCL_Tkgip"
   },
   "outputs": [],
   "source": []
  },
  {
   "cell_type": "code",
   "execution_count": 16,
   "metadata": {
    "executionInfo": {
     "elapsed": 2,
     "status": "ok",
     "timestamp": 1751066134054,
     "user": {
      "displayName": "Semih Özsoy",
      "userId": "18120777553271560662"
     },
     "user_tz": -180
    },
    "id": "z_sMAiJ_kglY"
   },
   "outputs": [],
   "source": []
  },
  {
   "cell_type": "code",
   "execution_count": 16,
   "metadata": {
    "executionInfo": {
     "elapsed": 2,
     "status": "ok",
     "timestamp": 1751066134056,
     "user": {
      "displayName": "Semih Özsoy",
      "userId": "18120777553271560662"
     },
     "user_tz": -180
    },
    "id": "vzURracBkgoA"
   },
   "outputs": [],
   "source": []
  },
  {
   "cell_type": "code",
   "execution_count": 16,
   "metadata": {
    "executionInfo": {
     "elapsed": 1,
     "status": "ok",
     "timestamp": 1751066134059,
     "user": {
      "displayName": "Semih Özsoy",
      "userId": "18120777553271560662"
     },
     "user_tz": -180
    },
    "id": "Pl1YTeTkkgqf"
   },
   "outputs": [],
   "source": []
  },
  {
   "cell_type": "code",
   "execution_count": 16,
   "metadata": {
    "executionInfo": {
     "elapsed": 1,
     "status": "ok",
     "timestamp": 1751066134062,
     "user": {
      "displayName": "Semih Özsoy",
      "userId": "18120777553271560662"
     },
     "user_tz": -180
    },
    "id": "jjHTynX-kgtX"
   },
   "outputs": [],
   "source": []
  },
  {
   "cell_type": "code",
   "execution_count": 16,
   "metadata": {
    "executionInfo": {
     "elapsed": 1,
     "status": "ok",
     "timestamp": 1751066134064,
     "user": {
      "displayName": "Semih Özsoy",
      "userId": "18120777553271560662"
     },
     "user_tz": -180
    },
    "id": "n8ry8KDJkgv_"
   },
   "outputs": [],
   "source": []
  },
  {
   "cell_type": "code",
   "execution_count": 16,
   "metadata": {
    "executionInfo": {
     "elapsed": 12,
     "status": "ok",
     "timestamp": 1751066134078,
     "user": {
      "displayName": "Semih Özsoy",
      "userId": "18120777553271560662"
     },
     "user_tz": -180
    },
    "id": "238UPwx4kgya"
   },
   "outputs": [],
   "source": []
  },
  {
   "cell_type": "code",
   "execution_count": 16,
   "metadata": {
    "executionInfo": {
     "elapsed": 1,
     "status": "ok",
     "timestamp": 1751066134081,
     "user": {
      "displayName": "Semih Özsoy",
      "userId": "18120777553271560662"
     },
     "user_tz": -180
    },
    "id": "DwGukiVukg0u"
   },
   "outputs": [],
   "source": []
  },
  {
   "cell_type": "code",
   "execution_count": 16,
   "metadata": {
    "executionInfo": {
     "elapsed": 1,
     "status": "ok",
     "timestamp": 1751066134084,
     "user": {
      "displayName": "Semih Özsoy",
      "userId": "18120777553271560662"
     },
     "user_tz": -180
    },
    "id": "82grVRrzkg28"
   },
   "outputs": [],
   "source": []
  }
 ],
 "metadata": {
  "accelerator": "GPU",
  "colab": {
   "authorship_tag": "ABX9TyN6Ox6qcZshCeRrS/hgj1T1",
   "gpuType": "A100",
   "machine_shape": "hm",
   "provenance": []
  },
  "kernelspec": {
   "display_name": "Python 3 (ipykernel)",
   "language": "python",
   "name": "python3"
  },
  "language_info": {
   "codemirror_mode": {
    "name": "ipython",
    "version": 3
   },
   "file_extension": ".py",
   "mimetype": "text/x-python",
   "name": "python",
   "nbconvert_exporter": "python",
   "pygments_lexer": "ipython3",
   "version": "3.11.5"
  }
 },
 "nbformat": 4,
 "nbformat_minor": 4
}
